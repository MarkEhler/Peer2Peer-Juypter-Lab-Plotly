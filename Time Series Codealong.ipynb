{
 "cells": [
  {
   "cell_type": "markdown",
   "metadata": {},
   "source": [
    "# Time Series"
   ]
  },
  {
   "cell_type": "markdown",
   "metadata": {},
   "source": [
    "* Juypter Notebook Tricks\n",
    "* Markdown and LaTeX for beautiful notebooks\n",
    "* Using an API\n",
    "* Time Series meaning and examples "
   ]
  },
  {
   "cell_type": "code",
   "execution_count": null,
   "metadata": {},
   "outputs": [],
   "source": [
    "[block of markdown with example of latex]"
   ]
  },
  {
   "cell_type": "code",
   "execution_count": null,
   "metadata": {},
   "outputs": [],
   "source": [
    "[library calls]"
   ]
  },
  {
   "cell_type": "code",
   "execution_count": null,
   "metadata": {},
   "outputs": [],
   "source": [
    "[existing example of a broken stored variable]"
   ]
  },
  {
   "cell_type": "code",
   "execution_count": null,
   "metadata": {},
   "outputs": [],
   "source": [
    "[swap notebooks and fix variable - give hint of API keys in that notebook]"
   ]
  },
  {
   "cell_type": "code",
   "execution_count": null,
   "metadata": {},
   "outputs": [],
   "source": [
    "[call API]"
   ]
  },
  {
   "cell_type": "markdown",
   "metadata": {},
   "source": [
    "API call:\n",
    "http://api.openweathermap.org/data/2.5/uvi/history?appid={appid}&lat={lat}&lon={lon}&cnt={cnt}&start={start}&end={end}\n",
    "Parameters:\n",
    "appid - personal API key\n",
    "\n",
    "lat, lon - coordinates of the location of your interest (latitude/longitude)\n",
    "\n",
    "cnt - number of returned days\n",
    "\n",
    "start - starting point of time period in UNIX time\n",
    "\n",
    "end - final point of time period in UNIX time"
   ]
  },
  {
   "cell_type": "code",
   "execution_count": null,
   "metadata": {},
   "outputs": [],
   "source": [
    "call - http://api.openweathermap.org/data/2.5/uvi/history?appid={appid}&lat={lat}&lon={lon}&cnt={cnt}&start={start}&end={end}"
   ]
  },
  {
   "cell_type": "code",
   "execution_count": null,
   "metadata": {},
   "outputs": [],
   "source": [
    "from flask import Flask, render_template, request\n",
    "import requests\n",
    "\n",
    "app = Flask(__name__)\n",
    "\n",
    "@app.route('/temperature', methods=['POST']) #calls to this api to get data.  Main Page\n",
    "def temperature():\n",
    "    zipcode = request.form['zip']\n",
    "    r = requests.get('http://api.openweathermap.org/data/2.5/weather?zip='+zipcode+',us&appid=fd38d62aa4fe1a03d86eee91fcd69f6e')\n",
    "    json_object = r.json()\n",
    "    temp_k = float(json_object['main']['temp'])\n",
    "    temp_f = (temp_k - 273.15) * 1.8 + 32\n",
    "    return render_template('temperature.html', temp=temp_f)\n",
    "\n",
    "@app.route('/')\n",
    "def index():\n",
    "\treturn render_template('index.html')\n",
    "\n",
    "if __name__ == '__main__':\n",
    "    app.run(debug=True)"
   ]
  },
  {
   "cell_type": "markdown",
   "metadata": {},
   "source": [
    "https://www.youtube.com/watch?v=zRwy8gtgJ1A"
   ]
  }
 ],
 "metadata": {
  "kernelspec": {
   "display_name": "Python 3",
   "language": "python",
   "name": "python3"
  },
  "language_info": {
   "codemirror_mode": {
    "name": "ipython",
    "version": 3
   },
   "file_extension": ".py",
   "mimetype": "text/x-python",
   "name": "python",
   "nbconvert_exporter": "python",
   "pygments_lexer": "ipython3",
   "version": "3.6.7"
  }
 },
 "nbformat": 4,
 "nbformat_minor": 2
}
